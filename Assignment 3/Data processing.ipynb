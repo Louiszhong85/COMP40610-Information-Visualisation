{
 "cells": [
  {
   "cell_type": "code",
   "execution_count": 1,
   "id": "0269caa8",
   "metadata": {},
   "outputs": [
    {
     "data": {
      "text/html": [
       "<div>\n",
       "<style scoped>\n",
       "    .dataframe tbody tr th:only-of-type {\n",
       "        vertical-align: middle;\n",
       "    }\n",
       "\n",
       "    .dataframe tbody tr th {\n",
       "        vertical-align: top;\n",
       "    }\n",
       "\n",
       "    .dataframe thead th {\n",
       "        text-align: right;\n",
       "    }\n",
       "</style>\n",
       "<table border=\"1\" class=\"dataframe\">\n",
       "  <thead>\n",
       "    <tr style=\"text-align: right;\">\n",
       "      <th></th>\n",
       "      <th>city_area</th>\n",
       "      <th>state</th>\n",
       "      <th>country</th>\n",
       "      <th>ufo_shape</th>\n",
       "      <th>encounter_length</th>\n",
       "      <th>described_encounter_length</th>\n",
       "      <th>description</th>\n",
       "      <th>date_documented</th>\n",
       "      <th>latitude</th>\n",
       "      <th>longitude</th>\n",
       "    </tr>\n",
       "    <tr>\n",
       "      <th>date_time</th>\n",
       "      <th></th>\n",
       "      <th></th>\n",
       "      <th></th>\n",
       "      <th></th>\n",
       "      <th></th>\n",
       "      <th></th>\n",
       "      <th></th>\n",
       "      <th></th>\n",
       "      <th></th>\n",
       "      <th></th>\n",
       "    </tr>\n",
       "  </thead>\n",
       "  <tbody>\n",
       "    <tr>\n",
       "      <th>10/10/1949 20:30</th>\n",
       "      <td>san marcos</td>\n",
       "      <td>tx</td>\n",
       "      <td>us</td>\n",
       "      <td>cylinder</td>\n",
       "      <td>2700.0</td>\n",
       "      <td>45 minutes</td>\n",
       "      <td>This event took place in early fall around 194...</td>\n",
       "      <td>4/27/2004</td>\n",
       "      <td>29.883056</td>\n",
       "      <td>-97.941111</td>\n",
       "    </tr>\n",
       "    <tr>\n",
       "      <th>10/10/1949 21:00</th>\n",
       "      <td>lackland afb</td>\n",
       "      <td>tx</td>\n",
       "      <td>NaN</td>\n",
       "      <td>light</td>\n",
       "      <td>7200.0</td>\n",
       "      <td>1-2 hrs</td>\n",
       "      <td>1949 Lackland AFB&amp;#44 TX.  Lights racing acros...</td>\n",
       "      <td>12/16/2005</td>\n",
       "      <td>29.384210</td>\n",
       "      <td>-98.581082</td>\n",
       "    </tr>\n",
       "    <tr>\n",
       "      <th>10/10/1955 17:00</th>\n",
       "      <td>chester (uk/england)</td>\n",
       "      <td>NaN</td>\n",
       "      <td>gb</td>\n",
       "      <td>circle</td>\n",
       "      <td>20.0</td>\n",
       "      <td>20 seconds</td>\n",
       "      <td>Green/Orange circular disc over Chester&amp;#44 En...</td>\n",
       "      <td>1/21/2008</td>\n",
       "      <td>53.200000</td>\n",
       "      <td>-2.916667</td>\n",
       "    </tr>\n",
       "    <tr>\n",
       "      <th>10/10/1956 21:00</th>\n",
       "      <td>edna</td>\n",
       "      <td>tx</td>\n",
       "      <td>us</td>\n",
       "      <td>circle</td>\n",
       "      <td>20.0</td>\n",
       "      <td>1/2 hour</td>\n",
       "      <td>My older brother and twin sister were leaving ...</td>\n",
       "      <td>1/17/2004</td>\n",
       "      <td>28.978333</td>\n",
       "      <td>-96.645833</td>\n",
       "    </tr>\n",
       "    <tr>\n",
       "      <th>10/10/1960 20:00</th>\n",
       "      <td>kaneohe</td>\n",
       "      <td>hi</td>\n",
       "      <td>us</td>\n",
       "      <td>light</td>\n",
       "      <td>900.0</td>\n",
       "      <td>15 minutes</td>\n",
       "      <td>AS a Marine 1st Lt. flying an FJ4B fighter/att...</td>\n",
       "      <td>1/22/2004</td>\n",
       "      <td>21.418056</td>\n",
       "      <td>-157.803611</td>\n",
       "    </tr>\n",
       "  </tbody>\n",
       "</table>\n",
       "</div>"
      ],
      "text/plain": [
       "                             city_area state country ufo_shape  \\\n",
       "date_time                                                        \n",
       "10/10/1949 20:30            san marcos    tx      us  cylinder   \n",
       "10/10/1949 21:00          lackland afb    tx     NaN     light   \n",
       "10/10/1955 17:00  chester (uk/england)   NaN      gb    circle   \n",
       "10/10/1956 21:00                  edna    tx      us    circle   \n",
       "10/10/1960 20:00               kaneohe    hi      us     light   \n",
       "\n",
       "                  encounter_length described_encounter_length  \\\n",
       "date_time                                                       \n",
       "10/10/1949 20:30            2700.0                 45 minutes   \n",
       "10/10/1949 21:00            7200.0                    1-2 hrs   \n",
       "10/10/1955 17:00              20.0                 20 seconds   \n",
       "10/10/1956 21:00              20.0                   1/2 hour   \n",
       "10/10/1960 20:00             900.0                 15 minutes   \n",
       "\n",
       "                                                        description  \\\n",
       "date_time                                                             \n",
       "10/10/1949 20:30  This event took place in early fall around 194...   \n",
       "10/10/1949 21:00  1949 Lackland AFB&#44 TX.  Lights racing acros...   \n",
       "10/10/1955 17:00  Green/Orange circular disc over Chester&#44 En...   \n",
       "10/10/1956 21:00  My older brother and twin sister were leaving ...   \n",
       "10/10/1960 20:00  AS a Marine 1st Lt. flying an FJ4B fighter/att...   \n",
       "\n",
       "                 date_documented   latitude   longitude  \n",
       "date_time                                                \n",
       "10/10/1949 20:30       4/27/2004  29.883056  -97.941111  \n",
       "10/10/1949 21:00      12/16/2005  29.384210  -98.581082  \n",
       "10/10/1955 17:00       1/21/2008  53.200000   -2.916667  \n",
       "10/10/1956 21:00       1/17/2004  28.978333  -96.645833  \n",
       "10/10/1960 20:00       1/22/2004  21.418056 -157.803611  "
      ]
     },
     "execution_count": 1,
     "metadata": {},
     "output_type": "execute_result"
    }
   ],
   "source": [
    "import json, requests\n",
    "import pandas as pd    \n",
    "\n",
    "# load data\n",
    "url = \"https://raw.githubusercontent.com/rfordatascience/tidytuesday/master/data/2019/2019-06-25/ufo_sightings.csv\"\n",
    "data = pd.read_csv(url, index_col=0)\n",
    "\n",
    "# Shows data\n",
    "data.head()"
   ]
  },
  {
   "cell_type": "code",
   "execution_count": 2,
   "id": "dd45e578",
   "metadata": {},
   "outputs": [
    {
     "data": {
      "text/plain": [
       "array(['us', nan, 'gb', 'ca', 'au', 'de'], dtype=object)"
      ]
     },
     "execution_count": 2,
     "metadata": {},
     "output_type": "execute_result"
    }
   ],
   "source": [
    "unique_countries = data['country'].unique()\n",
    "unique_countries"
   ]
  },
  {
   "cell_type": "code",
   "execution_count": 3,
   "id": "1e3db3d7",
   "metadata": {},
   "outputs": [
    {
     "data": {
      "text/plain": [
       "9670"
      ]
     },
     "execution_count": 3,
     "metadata": {},
     "output_type": "execute_result"
    }
   ],
   "source": [
    "nan_count = data['country'].isna().sum()\n",
    "nan_count"
   ]
  },
  {
   "cell_type": "code",
   "execution_count": 6,
   "id": "e236f082",
   "metadata": {},
   "outputs": [
    {
     "name": "stdout",
     "output_type": "stream",
     "text": [
      "70\n"
     ]
    }
   ],
   "source": [
    "from geopy.geocoders import Nominatim\n",
    "from geopy.exc import GeocoderTimedOut\n",
    "\n",
    "# Function to find the country using latitude and longitude\n",
    "def get_country(lat, lon, geolocator):\n",
    "    try:\n",
    "        location = geolocator.reverse(f\"{lat}, {lon}\")\n",
    "        if location is not None:\n",
    "            return location.raw['address']['country_code'].upper()\n",
    "        else:\n",
    "            return None\n",
    "    except (KeyError, GeocoderTimedOut, ValueError):\n",
    "        return None\n",
    "\n",
    "# Initialize geolocator\n",
    "geolocator = Nominatim(user_agent=\"geoapiExercises\")\n",
    "\n",
    "# Update the 'country' column for rows with NaN values using latitude and longitude\n",
    "data.loc[data['country'].isna(), 'country'] = data[data['country'].isna()].apply(lambda row: get_country(row['latitude'], row['longitude'], geolocator), axis=1)\n",
    "\n",
    "# Count updated NaN values in 'country' column\n",
    "nan_count = data['country'].isna().sum()\n",
    "\n",
    "# Print the updated count of NaN values\n",
    "print(nan_count)"
   ]
  },
  {
   "cell_type": "code",
   "execution_count": 10,
   "id": "913e76e1",
   "metadata": {},
   "outputs": [],
   "source": [
    "# Convert all lowercase country codes to uppercase\n",
    "valid_data['country'] = valid_data['country'].str.upper()"
   ]
  },
  {
   "cell_type": "code",
   "execution_count": 14,
   "id": "17346f51",
   "metadata": {},
   "outputs": [],
   "source": [
    "# Remove rows with NaN values in the 'country' column\n",
    "cleaned_data = valid_data.dropna(subset=['country'])"
   ]
  },
  {
   "cell_type": "code",
   "execution_count": 15,
   "id": "829f4a95",
   "metadata": {},
   "outputs": [
    {
     "data": {
      "text/plain": [
       "array(['US', 'GB', 'BM', 'CA', 'NZ', 'RU', 'AU', 'LT', 'NO', 'IS', 'MX',\n",
       "       'AT', 'JP', 'VN', None, 'TR', 'BE', 'CN', 'PE', 'GR', 'IQ', 'MY',\n",
       "       'AM', 'FR', 'JE', 'CL', 'ID', 'IN', 'TH', 'HU', 'DE', 'ES', 'PH',\n",
       "       'VE', 'PK', 'IR', 'AF', 'MA', 'TW', 'SA', 'SZ', 'HR', 'CO', 'IL',\n",
       "       'EG', 'BB', 'PL', 'RS', 'ZA', 'IE', 'PA', 'CR', 'KR', 'HN', 'SE',\n",
       "       'IT', 'NL', 'DO', 'MK', 'AR', 'CY', 'NA', 'BD', 'JM', 'SY', 'AE',\n",
       "       'GL', 'KW', 'RO', 'UA', 'BG', 'SK', 'TN', 'DZ', 'TT', 'FI', 'XK',\n",
       "       'LB', 'LY', 'MU', 'LK', 'BA', 'LV', 'SR', 'GT', 'UZ', 'GH', 'BR',\n",
       "       'NP', 'BO', 'PT', 'BH', 'JO', 'MM', 'SI', 'DK', 'LU', 'BN', 'VC',\n",
       "       'MT', 'CU', 'ZW', 'AZ', 'FJ', 'SB', 'PW', 'VG', 'LC', 'MV', 'IM',\n",
       "       'PY', 'EE', 'OM', 'LS', 'SG', 'NG', 'CH', 'KE', 'TC', 'GY', 'BY',\n",
       "       'CZ', 'KG', 'BZ', 'EC', 'KY', 'SV', 'TZ', 'FO', 'ZM', 'KH', 'SH',\n",
       "       'ET', 'CM', 'TL', 'AL', 'SN', 'BS', 'TO', 'BW', 'UY', 'GE', 'UG',\n",
       "       'CV', 'QA', 'ST', 'KZ', 'PG', 'CD', 'GI', 'MN', 'LA', 'PS'],\n",
       "      dtype=object)"
      ]
     },
     "execution_count": 15,
     "metadata": {},
     "output_type": "execute_result"
    }
   ],
   "source": [
    "unique_countries_fix = data['country'].unique()\n",
    "unique_countries_fix"
   ]
  },
  {
   "cell_type": "code",
   "execution_count": 16,
   "id": "035f3934",
   "metadata": {},
   "outputs": [
    {
     "name": "stdout",
     "output_type": "stream",
     "text": [
      "Number of unique countries: 152\n"
     ]
    }
   ],
   "source": [
    "valid_data = data\n",
    "# Count the number of unique countries\n",
    "unique_country_count = valid_data['country'].nunique()\n",
    "\n",
    "# Print the count of unique countries\n",
    "print(f\"Number of unique countries: {unique_country_count}\")"
   ]
  },
  {
   "cell_type": "code",
   "execution_count": 17,
   "id": "7d580498",
   "metadata": {},
   "outputs": [],
   "source": [
    "data.to_csv('ufo_sightings.csv', sep=',', header=True, index=True,float_format = str)"
   ]
  },
  {
   "cell_type": "code",
   "execution_count": null,
   "id": "524703e2",
   "metadata": {},
   "outputs": [],
   "source": []
  }
 ],
 "metadata": {
  "kernelspec": {
   "display_name": "Python 3 (ipykernel)",
   "language": "python",
   "name": "python3"
  },
  "language_info": {
   "codemirror_mode": {
    "name": "ipython",
    "version": 3
   },
   "file_extension": ".py",
   "mimetype": "text/x-python",
   "name": "python",
   "nbconvert_exporter": "python",
   "pygments_lexer": "ipython3",
   "version": "3.9.12"
  }
 },
 "nbformat": 4,
 "nbformat_minor": 5
}
